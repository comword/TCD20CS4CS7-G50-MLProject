{
 "cells": [
  {
   "cell_type": "code",
   "execution_count": 1,
   "outputs": [],
   "source": [
    "import numpy as np\n",
    "from sklearn.model_selection import train_test_split\n",
    "import utils\n",
    "\n",
    "years = utils.Groups(5)\n",
    "\n",
    "Groups = utils.CombinedDataSelector(years).ConstructNoFilter()\n",
    "\n",
    "ds = utils.DataSelector(5,Groups)\n",
    "\n",
    "dfs = utils.DataFromSelector(ds,1970,35,utils.conn)\n",
    "\n",
    "data = dfs.constructAll()\n",
    "\n",
    "X_train, X_test, y_train, y_test = train_test_split(np.array(data[0]),\n",
    "     np.array(data[1]), test_size=0.1, random_state=42)"
   ],
   "metadata": {
    "collapsed": false,
    "pycharm": {
     "name": "#%%\n"
    }
   }
  },
  {
   "cell_type": "code",
   "execution_count": null,
   "outputs": [],
   "source": [
    "from models import LinRegWithPoly\n",
    "\n",
    "lr_model = LinRegWithPoly()\n",
    "lr_model.fit(X_train, y_train)\n",
    "lr_model.evaluate(X_test, y_test)"
   ],
   "metadata": {
    "collapsed": false,
    "pycharm": {
     "name": "#%%\n",
     "is_executing": true
    }
   }
  }
 ],
 "metadata": {
  "kernelspec": {
   "display_name": "Python 3",
   "language": "python",
   "name": "python3"
  },
  "language_info": {
   "codemirror_mode": {
    "name": "ipython",
    "version": 2
   },
   "file_extension": ".py",
   "mimetype": "text/x-python",
   "name": "python",
   "nbconvert_exporter": "python",
   "pygments_lexer": "ipython2",
   "version": "2.7.6"
  }
 },
 "nbformat": 4,
 "nbformat_minor": 0
}