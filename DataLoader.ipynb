{
 "cells": [
  {
   "cell_type": "code",
   "execution_count": 1,
   "metadata": {},
   "outputs": [],
   "source": [
    "import sqlite3\n",
    "conn = sqlite3.connect('data/WDIProd.sqlite')\n"
   ]
  },
  {
   "cell_type": "code",
   "execution_count": 2,
   "metadata": {},
   "outputs": [],
   "source": [
    "def getMaxMinForData(row):\n",
    "    return r'SELECT max(\"{}\") as maxvalue, min(\"{}\") as minValue, avg(\"{}\") as avgvalue FROM \"data\"'.format(row, row, row)"
   ]
  },
  {
   "cell_type": "code",
   "execution_count": 3,
   "metadata": {},
   "outputs": [
    {
     "output_type": "execute_result",
     "data": {
      "text/plain": [
       "'SELECT max(\"Test\") as maxvalue, min(\"Test\") as minValue, avg(\"Test\") as avgvalue FROM \"data\"'"
      ]
     },
     "metadata": {},
     "execution_count": 3
    }
   ],
   "source": [
    "getMaxMinForData(\"Test\")"
   ]
  },
  {
   "cell_type": "code",
   "execution_count": 4,
   "metadata": {},
   "outputs": [],
   "source": [
    "class DataSelector:\n",
    "    def __init__(self, yearDelta, metrics, note = \"\"):\n",
    "        self.yearDelta = yearDelta\n",
    "        self.metrics = metrics\n",
    "        self.note = note\n",
    "    \n",
    "class QueryConstructor:\n",
    "    def __init__(self, dataSelector):\n",
    "        self.dataSelector = dataSelector\n",
    "        \n",
    "    def formartTableName(self, table, row):\n",
    "        return r'\"{}\".\"{}\"'.format(table,row)\n",
    "        \n",
    "    def formartName(self, table):\n",
    "        return r'\"{}\"'.format(table)\n",
    "        \n",
    "    def constructForYear(self, year):\n",
    "        output = \"\"\n",
    "        \n",
    "        #SELECT PART FIRST\n",
    "        output += r'SELECT '\n",
    "        \n",
    "        for selectedData in self.dataSelector.metrics:\n",
    "            output += self.formartTableName(\"time1\",selectedData)\n",
    "            output += \" as \"\n",
    "            output += self.formartName(\"p.\"+selectedData)\n",
    "            output += \" , \"\n",
    "        \n",
    "        output += \" \"\n",
    "        \n",
    "        #Country Name as N row\n",
    "        output += self.formartTableName(\"origins\",\"CountryCode\")\n",
    "        output += \", \"\n",
    "        \n",
    "        #T+0 GDP as N+1 row\n",
    "        output += self.formartTableName(\"time2\",\"NY.GDP.PCAP.PP.KD\")\n",
    "        output += \" as gdpf ,\"\n",
    "        \n",
    "        #T+yY GDP as N+2 row\n",
    "        output += self.formartTableName(\"time1\",\"NY.GDP.PCAP.PP.KD\")\n",
    "        output += \" as gdpp \"\n",
    "            \n",
    "        year2 = year\n",
    "        year1 = year - self.dataSelector.yearDelta\n",
    "        \n",
    "        data = r' from (SELECT DISTINCT \"origin\".\"CountryCode\" from \"data\" as \"origin\") as \"origins\" LEFT JOIN \"data\" as \"time1\" ON \"time1\".\"CountryCode\" == \"origins\".\"CountryCode\" AND \"time1\".\"Year\" == {} LEFT JOIN \"data\" as \"time2\" ON \"time2\".\"CountryCode\" == \"origins\".\"CountryCode\" AND \"time2\".\"Year\" == {} WHERE gdpf is not NULL AND gdpp is not NULL'.format(year1,year2)\n",
    "        \n",
    "        output += data\n",
    "        \n",
    "        return output"
   ]
  },
  {
   "cell_type": "code",
   "execution_count": 5,
   "metadata": {},
   "outputs": [],
   "source": [
    "# SELECT \"origin1\".\"CountryCode\", \"time1\".\"EN.ATM.NOXE.KT.CE\" as \"time1.EN.ATM.NOXE.KT.CE\", \"time2\".\"EN.ATM.NOXE.KT.CE\" as \"time2.EN.ATM.NOXE.KT.CE\" from (SELECT DISTINCT \"origin\".\"CountryCode\" from \"data\" as \"origin\") as \"origin1\" LEFT JOIN \"data\" as \"time1\" ON \"time1\".\"CountryCode\" == \"origin1\".\"CountryCode\" AND \"time1\".\"Year\" == 1990 LEFT JOIN \"data\" as \"time2\" ON \"time2\".\"CountryCode\" == \"origin1\".\"CountryCode\" AND \"time2\".\"Year\" == 1991"
   ]
  },
  {
   "cell_type": "code",
   "execution_count": 6,
   "metadata": {},
   "outputs": [],
   "source": [
    "ds = DataSelector(5,[\"EN.MAM.THRD.NO\",\"BX.TRF.PWKR.DT.GD.ZS\"])"
   ]
  },
  {
   "cell_type": "code",
   "execution_count": 7,
   "metadata": {},
   "outputs": [],
   "source": [
    "qc = QueryConstructor(ds)"
   ]
  },
  {
   "cell_type": "code",
   "execution_count": 8,
   "metadata": {},
   "outputs": [
    {
     "output_type": "execute_result",
     "data": {
      "text/plain": [
       "'SELECT \"time1\".\"EN.MAM.THRD.NO\" as \"p.EN.MAM.THRD.NO\" , \"time1\".\"BX.TRF.PWKR.DT.GD.ZS\" as \"p.BX.TRF.PWKR.DT.GD.ZS\" ,  \"origins\".\"CountryCode\", \"time2\".\"NY.GDP.PCAP.PP.KD\" as gdpf ,\"time1\".\"NY.GDP.PCAP.PP.KD\" as gdpp  from (SELECT DISTINCT \"origin\".\"CountryCode\" from \"data\" as \"origin\") as \"origins\" LEFT JOIN \"data\" as \"time1\" ON \"time1\".\"CountryCode\" == \"origins\".\"CountryCode\" AND \"time1\".\"Year\" == 2013 LEFT JOIN \"data\" as \"time2\" ON \"time2\".\"CountryCode\" == \"origins\".\"CountryCode\" AND \"time2\".\"Year\" == 2018 WHERE gdpf is not NULL AND gdpp is not NULL'"
      ]
     },
     "metadata": {},
     "execution_count": 8
    }
   ],
   "source": [
    "qc.constructForYear(2018)"
   ]
  },
  {
   "cell_type": "code",
   "execution_count": 9,
   "metadata": {},
   "outputs": [
    {
     "output_type": "execute_result",
     "data": {
      "text/plain": [
       "[(None, 1.68845930330232, 'AFG', 2190.24032132044, 2264.3175752325),\n",
       " (None, 0.0267993914860461, 'AGO', 6933.50930820608, 8140.53120789329),\n",
       " (None, 10.0330801692658, 'ALB', 13601.3033805754, 11597.9632735891),\n",
       " (None, 2.07731781241171, 'ARB', 14620.2610718972, 14136.9464230217),\n",
       " (None, None, 'ARE', 66968.2698548892, 59921.7348033071),\n",
       " (None, 0.0969166746867399, 'ARG', 22745.9037844103, 24424.3504112585),\n",
       " (None, 19.7113750362956, 'ARM', 12714.9581875586, 10691.3099550604),\n",
       " (None, 1.78825882234923, 'ATG', 21115.7982687308, 17641.5425333279),\n",
       " (None, 0.15159377815888, 'AUS', 49575.981131221, 47192.0573890772),\n",
       " (None, 0.758368508471961, 'AUT', 55687.1892771302, 53289.3783085002),\n",
       " (None, 2.33692601835619, 'AZE', 14209.6494059309, 14652.7042457179),\n",
       " (None, 1.98396848206385, 'BDI', 761.524193384446, 877.274160261081),\n",
       " (None, 2.24197236441209, 'BEL', 51245.9962234656, 48243.0201797298),\n",
       " (None, 1.98756670280948, 'BEN', 3160.7770925266, 2876.90563418335),\n",
       " (None, 2.29442584641875, 'BFA', 2131.54790116674, 1893.176273085),\n",
       " (None, 9.24522456255296, 'BGD', 4441.42350607517, 3348.95275284132),\n",
       " (None, 2.99859671325205, 'BGR', 22181.496811059, 18274.7177911088),\n",
       " (None, None, 'BHR', 46242.3150198831, 46946.3513849851),\n",
       " (None, None, 'BHS', 35500.5441974506, 36041.8616118047),\n",
       " (None, 10.7708945021345, 'BIH', 14419.6344708554, 11877.2186361669),\n",
       " (None, 1.60668924545448, 'BLR', 18885.2354999668, 18760.16352402),\n",
       " (None, 4.71075790617986, 'BLZ', 7119.09623772387, 7110.36055473309),\n",
       " (None, 3.91834764293941, 'BOL', 8655.52988630046, 7444.49007887763),\n",
       " (None, 0.109902437055945, 'BRA', 14596.2461623842, 15800.0389651203),\n",
       " (None, 4.08342170151452, 'BRB', 15674.8496347642, 15088.3352051124),\n",
       " (None, None, 'BRN', 60388.9030876585, 66714.5378861407),\n",
       " (None, 0.672143173566942, 'BTN', 11345.4449257567, 9163.52484481139),\n",
       " (None, 0.241610954711263, 'BWA', 17634.1423101317, 16786.174972521),\n",
       " (None, None, 'CAF', 933.109550675102, 824.943832052328),\n",
       " (None, 0.0723545062551084, 'CAN', 48924.3991847307, 46948.7668689922),\n",
       " (None, 2.01133332355932, 'CEB', 31317.38838941, 25585.5319474221),\n",
       " (None, 0.353964906246206, 'CHE', 68479.4402109781, 65251.2156555835),\n",
       " (None, 0.0255431550363462, 'CHL', 24258.649845584, 23214.3750756304),\n",
       " (None, 0.18588663498153, 'CHN', 15243.2477845168, 11150.0485382595),\n",
       " (None, 1.23038313959803, 'CIV', 5028.92007015129, 3922.54109492572),\n",
       " (None, 0.754476451053908, 'CMR', 3603.54888184177, 3262.76359451125),\n",
       " (None, 3.06415558679015, 'COD', 1085.89370062626, 972.455893446057),\n",
       " (None, 0.511266220476356, 'COG', 3414.4160388068, 3644.24135120048),\n",
       " (None, 1.16452340976978, 'COL', 14455.5890677618, 13524.7077775305),\n",
       " (None, 10.3860196729489, 'COM', 3066.83784677933, 3005.53517628425),\n",
       " (None, 9.5066837820989, 'CPV', 6864.14742789843, 6323.27761047042),\n",
       " (None, 1.19891075418471, 'CRI', 19426.6533725302, 17176.681990482),\n",
       " (None, 5.03522438272804, 'CSS', 15364.4814817496, 15672.4944215946),\n",
       " (None, 4.22719472197903, 'CUW', 24982.1450961915, 27503.7894380048),\n",
       " (None, None, 'CYM', 70809.6181573197, 65469.305442205),\n",
       " (None, 1.80327877271462, 'CYP', 38822.4919713012, 33323.7065366915),\n",
       " (None, 0.829925522944139, 'CZE', 39452.7678936873, 33536.8724334961),\n",
       " (None, 0.439240364457079, 'DEU', 53659.9892931257, 49873.1147030086),\n",
       " (None, 1.94765751545189, 'DJI', 5214.08849899121, 4028.44605162155),\n",
       " (None, 4.72633135127098, 'DMA', 11533.4008897018, 11708.6395949883),\n",
       " (None, 0.398958981448673, 'DNK', 56102.8219431727, 51602.1786698821),\n",
       " (None, 7.155943135019, 'DOM', 17711.7655340058, 13702.3239331906),\n",
       " (None, 0.0999269049182859, 'DZA', 11479.4983728015, 11138.9033689379),\n",
       " (None, 0.633669501208927, 'EAP', 13725.8127961277, 10377.9768543719),\n",
       " (None, 2.40441583363876, 'EAR', 9430.30472168214, 7939.5625220986),\n",
       " (None, 0.425582421755742, 'EAS', 17051.0579643133, 13752.8440965932),\n",
       " (None, 1.24769621558504, 'ECA', 21334.2983450631, 19902.0746365762),\n",
       " (None, 0.718756456749851, 'ECS', 34751.4970945845, 31896.9091144041),\n",
       " (None, 2.58468611689305, 'ECU', 11561.7492066323, 11818.5860816906),\n",
       " (None, 6.17947013867985, 'EGY', 11366.3363290551, 10290.1930191731),\n",
       " (None, 0.62182297502582, 'EMU', 46539.7055517178, 42746.4910504027),\n",
       " (None, 0.224081198299579, 'ESP', 40328.9379296749, 35441.6269194499),\n",
       " (None, 2.23492290728374, 'EST', 35308.0862153163, 29696.409224341),\n",
       " (None, 1.74829505079647, 'ETH', 2103.51298883042, 1545.1780856013),\n",
       " (None, 0.719125916146861, 'EUU', 43711.3246092123, 39427.5417567316),\n",
       " (None, 0.358742297125557, 'FIN', 48191.2325303143, 45328.7935138515),\n",
       " (None, 4.85830814934859, 'FJI', 13808.0655208967, 11396.5282672189),\n",
       " (None, 0.868431417952291, 'FRA', 45561.0017682227, 43021.3468314234),\n",
       " (None, 6.95006279664479, 'FSM', 3468.56842089047, 3475.7107965107),\n",
       " (None, 0.0939261167731715, 'GAB', 14743.3895003601, 15341.0856825981),\n",
       " (None, 0.172450214248759, 'GBR', 46309.8023832552, 43422.9895227385),\n",
       " (None, 11.316670187501, 'GEO', 14257.0816639076, 11740.0891163337),\n",
       " (None, 2.98690618621675, 'GHA', 5194.4390009745, 4649.43938482464),\n",
       " (None, 1.11035320166629, 'GIN', 2498.42566040217, 2037.0163906729),\n",
       " (None, 7.98404382781062, 'GMB', 2144.22505358703, 2131.43277120309),\n",
       " (None, 6.09947277269715, 'GNB', 1949.17757024548, 1770.47829569467),\n",
       " (None, None, 'GNQ', 20359.8451441929, 33678.7065474823),\n",
       " (None, 0.335490729778042, 'GRC', 29711.9219354672, 28077.3661308356),\n",
       " (None, 3.51829784196499, 'GRD', 16801.2014765571, 13427.8002319806),\n",
       " (None, 10.0076864684451, 'GTM', 8448.46382454193, 7733.84103845645),\n",
       " (None, 10.9835123058489, 'GUY', 9312.14664957379, 8122.04641051474),\n",
       " (None, 0.29073885174269, 'HIC', 49245.6358285704, 45301.0834219793),\n",
       " (None, 0.130664351966006, 'HKG', 61071.9230558477, 55230.8571577785),\n",
       " (None, 16.7475020988623, 'HND', 5672.253309629, 5113.46089403683),\n",
       " (None, 3.21857108514756, 'HPC', 2498.03560621189, 2244.60183067755),\n",
       " (None, 3.74494178240869, 'HRV', 27557.537629951, 23600.1802101007),\n",
       " (None, 20.9897356362738, 'HTI', 1767.17611999367, 1743.98508509793),\n",
       " (None, 3.07189153259492, 'HUN', 31072.9044219454, 25324.9631779843),\n",
       " (None, 1.12923915202184, 'IBD', 13121.6426344802, 10934.1117862666),\n",
       " (None, 1.40178774210336, 'IBT', 10728.5151090823, 9079.24118225973),\n",
       " (None, 5.33248249335558, 'IDA', 3799.34666960341, 3348.31984623793),\n",
       " (None, 4.76824557437599, 'IDB', 4864.89816660912, 4496.9823813202),\n",
       " (None, 0.834434842174634, 'IDN', 11371.5319393071, 9456.97767927869),\n",
       " (None, 5.96253085595392, 'IDX', 3265.95158333276, 2758.29524610687),\n",
       " (None, 3.76848856598062, 'IND', 6496.80750598397, 4809.64811514217),\n",
       " (None, 0.302852310401602, 'IRL', 83470.6239893367, 53320.2216078407),\n",
       " (None, 0.309839415231533, 'IRQ', 10660.0925632548, 10719.2451922946),\n",
       " (None, 1.26389896538895, 'ISL', 56157.5138509506, 49439.7885137377),\n",
       " (None, 0.2613484230877, 'ISR', 39543.2202459956, 36868.8072516642),\n",
       " (None, 0.440670128669803, 'ITA', 42198.2432366598, 40465.1906643631),\n",
       " (None, 15.2278630273319, 'JAM', 9737.98165571679, 9425.10797439765),\n",
       " (None, 15.6842412530193, 'JOR', 9853.92721328067, 10272.3822051731),\n",
       " (None, 0.0458491684581784, 'JPN', 41074.1040248099, 38954.181991181),\n",
       " (None, 0.144275579226919, 'KAZ', 25544.2797650782, 23720.8174640337),\n",
       " (None, 2.3672373930986, 'KEN', 4203.80228161941, 3611.82795680759),\n",
       " (None, 31.0564355165101, 'KGZ', 5133.15191405748, 4631.40326670591),\n",
       " (None, 6.58869843530635, 'KHM', 4159.33742648163, 3191.86131970603),\n",
       " (None, 9.32078189111428, 'KIR', 2258.95021191052, 2038.57248462535),\n",
       " (None, 6.14098064726689, 'KNA', 25899.8266977103, 24224.0991189329),\n",
       " (None, 0.472382745439474, 'KOR', 41894.105625531, 37060.588045132),\n",
       " (None, 0.00242560825178762, 'KWT', 50478.5941027391, 58995.3652721799),\n",
       " (None, 1.07583604761647, 'LAC', 15797.1138925248, 15692.1576691141),\n",
       " (None, 1.42717700814105, 'LAO', 7592.81979756711, 5841.88004168982),\n",
       " (None, 16.1302421319853, 'LBN', 15612.0121788337, 17532.8637171058),\n",
       " (None, 13.4577016399107, 'LBR', 1497.00447655505, 1652.18916036789),\n",
       " (None, None, 'LBY', 15017.9890768111, 16160.0872270389),\n",
       " (None, 1.81082589181432, 'LCA', 15261.4745219476, 14104.7050138318),\n",
       " (None, 1.02069237670407, 'LCN', 16342.8019245761, 16187.5719010599),\n",
       " (None, 4.42298264725592, 'LDC', 2961.78146249017, 2568.57107855425),\n",
       " (None, 4.52275061307218, 'LIC', 2420.87856633211, 2150.62794665048),\n",
       " (None, 8.64151799720891, 'LKA', 12864.6063465079, 10990.0702704975),\n",
       " (None, 4.89059652075619, 'LMC', 6368.03361240787, 5201.28772341307),\n",
       " (None, 1.41210901219049, 'LMY', 10452.0374416153, 8832.58886092787),\n",
       " (None, 19.1172642515558, 'LSO', 2748.5437478929, 2621.07094040981),\n",
       " (None, 0.615135016616573, 'LTE', 16753.9682760625, 13765.2815376159),\n",
       " (None, 4.43542678135137, 'LTU', 35389.9774872093, 28644.145309623),\n",
       " (None, 3.11240670052643, 'LUX', 114109.972454391, 106914.950314366),\n",
       " (None, 5.29998567836485, 'LVA', 29942.0073818529, 24732.0185871891),\n",
       " (None, 0.0943882127029593, 'MAC', 131908.154163198, 161938.749262015),\n",
       " (None, 6.4419921322637, 'MAR', 7437.63753502891, 6831.11480662597),\n",
       " (None, 23.0768954524651, 'MDA', 12373.0381119958, 9817.29629642572),\n",
       " (None, 2.87964473321291, 'MDG', 1613.10451399018, 1531.77886750918),\n",
       " (None, 0.100296669659154, 'MDV', 18508.5147212522, 17132.4387362207),\n",
       " (None, 1.64076434935957, 'MEA', 16695.7119356526, 15737.7671082446),\n",
       " (None, 1.81952511124945, 'MEX', 19992.230139994, 18628.1912801179),\n",
       " (None, 13.0817617769291, 'MHL', 3894.17741946459, 3634.09893306928),\n",
       " (None, 1.37145962373767, 'MIC', 11387.1869840242, 9557.62814298927),\n",
       " (None, 3.47641175943393, 'MKD', 15943.9521871786, 13918.6488912494),\n",
       " (None, 6.75474310063454, 'MLI', 2283.10116607053, 1995.74530456903),\n",
       " (None, 2.42151862589806, 'MLT', 43064.0188476449, 33596.438069223),\n",
       " (None, 2.72754377323088, 'MMR', 5029.18087568836, 3753.32230518101),\n",
       " (None, 3.1744123657398, 'MNA', 11059.2036108873, 10121.3467513108),\n",
       " (None, 12.2101128457337, 'MNE', 20628.5619066, 17332.9900728863),\n",
       " (None, 2.04365137609965, 'MNG', 11915.5792987983, 10383.7512787836),\n",
       " (None, 0.897891601712223, 'MOZ', 1289.54300128945, 1165.40943650463),\n",
       " (None, None, 'MRT', 5042.42318244102, 4946.03868648351),\n",
       " (None, 0.00455809074353863, 'MUS', 22208.1896670404, 18579.3741551896),\n",
       " (None, 0.618464571660876, 'MWI', 1042.52636787861, 999.441322243786),\n",
       " (None, 0.440294098341193, 'MYS', 27536.9184977165, 22860.2916230842),\n",
       " (None, 0.0492252732986279, 'NAC', 60136.6548482127, 55424.7881489346),\n",
       " (None, 0.533693498791482, 'NAM', 9931.97330026796, 9832.79931919615),\n",
       " (None, 1.43658874877028, 'NER', 1196.47541546371, 1098.80947021613),\n",
       " (None, 4.03853115609444, 'NGA', 5155.07454617157, 5329.12306787399),\n",
       " (None, 9.84523391153832, 'NIC', 5694.87577632457, 5263.50448993242),\n",
       " (None, 0.184580035372329, 'NLD', 56454.9252056674, 51883.1243700698),\n",
       " (None, 0.151399374994504, 'NOR', 63332.7998900687, 60806.4681077766),\n",
       " (None, 28.9743835062927, 'NPL', 3252.74332829979, 2668.27665073105),\n",
       " (None, 10.8528730344834, 'NRU', 11487.0364480353, 9920.68838719704),\n",
       " (None, 0.240633481037002, 'NZL', 42635.218052447, 38990.6290577967),\n",
       " (None, 0.323819792340429, 'OED', 44147.5528519979, 40670.26435844),\n",
       " (None, 0.0495170437664644, 'OMN', 28593.8303541484, 31817.8450938261),\n",
       " (None, 1.06583595904423, 'OSS', 22979.8072903437, 22469.7657275263),\n",
       " (None, 6.32691404435362, 'PAK', 4739.76880822783, 4069.22239308458),\n",
       " (None, 1.01184210526316, 'PAN', 31049.1793054985, 26485.5658059468),\n",
       " (None, 1.34571396885726, 'PER', 12782.3763299978, 11724.0032046236),\n",
       " (None, 9.41055793471317, 'PHL', 8516.0943882963, 6666.25091689504),\n",
       " (None, 1.05642649686059, 'PLW', 18070.0384471317, 16173.5273086736),\n",
       " (None, 0.0671680515286619, 'PNG', 4235.94402905313, 3520.80202917094),\n",
       " (None, 1.4224555086472, 'POL', 31765.6828625755, 25941.9841219804),\n",
       " (None, 2.35918622481387, 'PRE', 3525.54004493479, 3476.98532855649),\n",
       " (None, None, 'PRI', 34116.1038019264, 33922.1584216571),\n",
       " (None, 0.19723008502265, 'PRT', 34013.0711043603, 30080.5117759271),\n",
       " (None, 1.61532944772337, 'PRY', 12849.9410060756, 11225.4485709447),\n",
       " (None, 11.9376067812519, 'PSE', 5661.6344284001, 5640.10810015137),\n",
       " (None, 7.29764256778896, 'PSS', 7301.45681696334, 6492.29231608881),\n",
       " (None, 0.292053240845588, 'PST', 48349.6516041439, 44613.1582596582),\n",
       " (None, 0.289036439217052, 'QAT', 94502.6908176154, 99133.7186516167),\n",
       " (None, 2.51678226647225, 'ROU', 28565.4642103002, 22104.035682998),\n",
       " (None, 0.294477155183824, 'RUS', 26667.7254437796, 26413.178281508),\n",
       " (None, 2.16783400663926, 'RWA', 2088.56630313703, 1718.44849541729),\n",
       " (None, 4.70208960164931, 'SAS', 6051.54432623697, 4593.26568552572),\n",
       " (None, 0.0359973705737629, 'SAU', 47596.7279014246, 47847.6363633938),\n",
       " (None, 1.07310626935516, 'SDN', 4160.59786821199, 4083.65577889023),\n",
       " (None, 9.37434035886033, 'SEN', 3314.78568901839, 2766.96965794964),\n",
       " (None, None, 'SGP', 97744.9546061693, 85585.8665384853),\n",
       " (None, 1.82690821259781, 'SLB', 2365.20434151308, 2318.91050533752),\n",
       " (None, 1.41576911886152, 'SLE', 1663.29239326573, 1953.08694139838),\n",
       " (None, 18.0368512522906, 'SLV', 8615.57615103642, 7892.44185770279),\n",
       " (None, None, 'SMR', 59349.9712733261, 58077.8068342029),\n",
       " (None, 8.31668076274309, 'SRB', 17355.1284748374, 15340.7074577132),\n",
       " (None, 2.26177821367436, 'SSA', 3754.67346256837, 3677.08916114047),\n",
       " (None, 2.24444062371925, 'SSF', 3778.40355770479, 3698.83402765386),\n",
       " (None, 1.76031540930438, 'SST', 20648.8672607399, 20182.0300938853),\n",
       " (None, 8.77007455809346, 'STP', 3944.76794346347, 3527.60993121177),\n",
       " (None, 0.13591182980513, 'SUR', 16609.416767279, 18304.2516268017),\n",
       " (None, 2.09846509567667, 'SVK', 32067.3593949964, 27398.6472089343),\n",
       " (None, 0.648905445374477, 'SVN', 38022.049816862, 32376.9603317336),\n",
       " (None, 0.782575452435394, 'SWE', 53146.4610964786, 49200.135891275),\n",
       " (None, 1.63386836414546, 'SWZ', 8606.0759884969, 8240.29407463952),\n",
       " (None, 0.969337386031248, 'SYC', 27996.7707887214, 24253.2525498757),\n",
       " (None, None, 'TCA', 26431.4721903184, 22123.8939374127),\n",
       " (None, None, 'TCD', 1576.31867039522, 1804.32375050433),\n",
       " (None, 0.633762701226722, 'TEA', 13870.1140905829, 10488.5629469884),\n",
       " (None, 1.34533670242986, 'TEC', 22559.6022836784, 20549.1938114666),\n",
       " (None, 9.19721625190193, 'TGO', 1552.5476723323, 1360.58127826504),\n",
       " (None, 1.56658108512349, 'THA', 18086.5077091758, 15783.0307327749),\n",
       " (None, 43.7680543242898, 'TJK', 3234.72157879638, 2616.47548554236),\n",
       " (None, 0.102047210262011, 'TKM', 14845.3294260971, 11471.1862203993),\n",
       " (None, 1.01702679996557, 'TLA', 16292.8192667378, 16131.7297069953),\n",
       " (None, 2.41126015378372, 'TLS', 3079.89483690751, 3182.63873072547),\n",
       " (None, 3.10002738664185, 'TMN', 11125.6136093533, 10174.1380327317),\n",
       " (None, 27.220684462221, 'TON', 6266.90311383932, 5637.22758153104),\n",
       " (None, 4.70208960164931, 'TSA', 6051.54432623697, 4593.26568552572),\n",
       " (None, 2.24444062371925, 'TSS', 3778.40355770479, 3698.83402765386),\n",
       " (None, 0.532224756720732, 'TTO', 26272.9084023521, 29279.273610395),\n",
       " (None, 4.95234547757598, 'TUN', 10763.7855846866, 10304.8093171664),\n",
       " (None, 0.199983291638756, 'TUR', 28298.8658406785, 24117.0014019653),\n",
       " (None, 10.8158039954267, 'TUV', 3953.26480169899, 3445.89447536779),\n",
       " (None, 0.836090917356947, 'TZA', 2589.97560186412, 2205.99087157043),\n",
       " (None, 3.27969434954841, 'UGA', 2122.10979994055, 1987.91025211024),\n",
       " (None, 5.27357606275739, 'UKR', 12338.0028039485, 12552.6697613585),\n",
       " (None, 0.580569189813435, 'UMC', 16414.3744593131, 13781.0854107286),\n",
       " (None, 0.160910272763102, 'URY', 21590.833479898, 20001.1402665168),\n",
       " (None, 0.039398626255992, 'USA', 61391.3729620784, 56350.6459733513),\n",
       " (None, 9.69460075124162, 'UZB', 6755.4809736679, 5469.85595252832),\n",
       " (None, 4.37983679631893, 'VCT', 12466.4161360546, 11729.634315691),\n",
       " (None, 6.42440713597388, 'VNM', 7586.38493872479, 5815.11892014026),\n",
       " (None, 2.9571587559341, 'VUT', 3129.88591414451, 3136.4630277701),\n",
       " (None, 0.693223324227142, 'WLD', 16638.0233651077, 14850.7506115529),\n",
       " (None, 20.8883564860104, 'WSM', 6329.35450350319, 5841.11285472751),\n",
       " (None, 14.9601337729183, 'XKX', 10895.2858521324, 9076.3734601871),\n",
       " (None, 0.264606752456924, 'ZAF', 12630.7474848479, 12852.276802847),\n",
       " (None, 0.192473791829346, 'ZMB', 3521.53164508047, 3399.72870979198),\n",
       " (None, 9.90136447910557, 'ZWE', 3130.02950059825, 2937.72562445789)]"
      ]
     },
     "metadata": {},
     "execution_count": 9
    }
   ],
   "source": [
    "list(conn.execute(qc.constructForYear(2018)))"
   ]
  },
  {
   "cell_type": "code",
   "execution_count": 10,
   "metadata": {},
   "outputs": [],
   "source": [
    "def Normalize(meanv, minmaxdiffv):\n",
    "    \"\"\"\n",
    "    :param a: Array\n",
    "    :return: Array\n",
    "    \"\"\"\n",
    "    mean = meanv\n",
    "    maxmindiff = minmaxdiffv\n",
    "\n",
    "    def apply(v):\n",
    "        if v is None:\n",
    "            return 0\n",
    "        return (v - mean) / maxmindiff\n",
    "\n",
    "    def apply_inversed(v):\n",
    "        return v * maxmindiff + mean\n",
    "\n",
    "    return apply, apply_inversed\n",
    "\n",
    "\n",
    "class DataFromSelector:\n",
    "    def __init__(self, dataSelector, yearmin, years, conn):\n",
    "        self.dataSelector = dataSelector\n",
    "        self.yearmin = yearmin\n",
    "        self.years = years # The window of years\n",
    "        \n",
    "        self.qc = QueryConstructor(self.dataSelector)\n",
    "        self.conn = conn\n",
    "        \n",
    "        \n",
    "        normalF = []\n",
    "        for mat in self.dataSelector.metrics:\n",
    "            nf = self.getNormalizeFunction(mat)[0]\n",
    "            normalF.append(nf)\n",
    "        \n",
    "        self.normalF = normalF\n",
    "        \n",
    "    def getNormalizeFunction(self,metric):\n",
    "        sql = getMaxMinForData(metric)\n",
    "        \n",
    "        maxmin = self.conn.execute(sql).fetchone()\n",
    "        \n",
    "        maxv = maxmin[0]\n",
    "        minv = maxmin[1]\n",
    "        \n",
    "        avgv = maxmin[2]\n",
    "        \n",
    "        return Normalize(avgv,maxv-minv)\n",
    "        \n",
    "    def getProsperityIndex(self, gdp1, gdp2):\n",
    "        if gdp2-gdp1 > 0:\n",
    "            return pow((gdp2-gdp1)/gdp1,(1/self.years))\n",
    "        else:\n",
    "            return - pow((gdp1-gdp2)/gdp1,(1/self.years))\n",
    "    \n",
    "    def getXfromRow(self, row):\n",
    "        rawData = row[:-3]\n",
    "        normalF = self.normalF\n",
    "        \n",
    "        data = []\n",
    "        for item in range(len(rawData)):\n",
    "                data.append(normalF[item](rawData[item]))\n",
    "        return data\n",
    "    \n",
    "    def getYfromRow(self, row):\n",
    "        return self.getProsperityIndex(row[-2],row[-1])\n",
    "        \n",
    "        #return (row[-2],row[-1])\n",
    "    \n",
    "    def constructOneYear(self, year, X, Y):\n",
    "        sql = self.qc.constructForYear(year)\n",
    "        res = self.conn.execute(sql)\n",
    "        for data in res:\n",
    "            X.append(self.getXfromRow(data))\n",
    "            Y.append(self.getYfromRow(data))\n",
    "    \n",
    "    def constructAll(self):\n",
    "        X = []\n",
    "        Y = []\n",
    "        \n",
    "        for ye in range(self.yearmin, self.yearmin+self.years):\n",
    "            self.constructOneYear(ye, X,Y)\n",
    "        \n",
    "        return (X,Y)"
   ]
  },
  {
   "cell_type": "code",
   "execution_count": 11,
   "metadata": {},
   "outputs": [],
   "source": [
    "dfs = DataFromSelector(ds,2000,15,conn)"
   ]
  },
  {
   "cell_type": "code",
   "execution_count": 12,
   "metadata": {},
   "outputs": [
    {
     "output_type": "execute_result",
     "data": {
      "text/plain": [
       "3435"
      ]
     },
     "metadata": {},
     "execution_count": 12
    }
   ],
   "source": [
    "len(dfs.constructAll()[1])"
   ]
  },
  {
   "cell_type": "markdown",
   "metadata": {},
   "source": [
    "\n",
    "Size of the economy (GDP per capita) (http://wdi.worldbank.org/table/WV.1) NY.GDP.PCAP.PP.KD\n",
    "Poverty rates at international poverty lines (http://wdi.worldbank.org/table/1.2) SI.POV.LMIC.GP SI.POV.GINI\n",
    "Distribution of income or consumption (http://wdi.worldbank.org/table/1.3) SI.DST.10TH.10 SI.DST.05TH.20 SI.DST.FRST.10 SI.DST.FRST.20 SI.DST.50MD\n",
    "Labor force structure (http://wdi.worldbank.org/table/2.2)  SL.TLF.0714.ZS SL.EMP.1524.SP.ZS  SL.TLF.ADVN.ZS SL.TLF.BASC.ZS SL.TLF.INTM.ZS\n",
    "Employment by sector (http://wdi.worldbank.org/table/2.3) SL.IND.EMPL.ZS SL.ISV.IFRM.ZS  SL.EMP.WORK.ZS SL.AGR.EMPL.ZS \n",
    "Unemployment (http://wdi.worldbank.org/table/2.5) SL.UEM.1524.ZS SL.UEM.TOTL.ZS\n",
    "Health systems (http://wdi.worldbank.org/table/2.12) SP.DYN.LE00.IN SH.XPD.OOPC.CH.ZS SH.XPD.CHEX.PP.CD\n",
    "Energy dependency, efficiency and carbon dioxide emissions (http://wdi.worldbank.org/table/3.8)\n",
    "Structure of merchandise exports (http://wdi.worldbank.org/table/4.4)\n",
    "Structure of merchandise imports (http://wdi.worldbank.org/table/4.5)\n",
    "Structure of service exports (http://wdi.worldbank.org/table/4.6)\n",
    "Structure of service imports (http://wdi.worldbank.org/table/4.7)\n",
    "Business environment: Doing Business indicators (http://wdi.worldbank.org/table/5.3)\n",
    "Financial access, stability and efficiency (http://wdi.worldbank.org/table/5.5)\n",
    "Tax policies (http://wdi.worldbank.org/table/5.6)"
   ]
  },
  {
   "cell_type": "code",
   "execution_count": 13,
   "metadata": {},
   "outputs": [],
   "source": [
    "ds = DataSelector(5,[\"NY.GDP.PCAP.PP.KD\",\"SI.POV.LMIC.GP\",\"SI.DST.10TH.10\",\"SI.DST.50MD\"])"
   ]
  },
  {
   "cell_type": "code",
   "execution_count": 14,
   "metadata": {},
   "outputs": [],
   "source": [
    "dfs = DataFromSelector(ds,1970,45,conn)"
   ]
  },
  {
   "cell_type": "code",
   "execution_count": 15,
   "metadata": {},
   "outputs": [
    {
     "output_type": "execute_result",
     "data": {
      "text/plain": [
       "4480"
      ]
     },
     "metadata": {},
     "execution_count": 15
    }
   ],
   "source": [
    "len(dfs.constructAll()[1])"
   ]
  },
  {
   "cell_type": "code",
   "execution_count": 16,
   "metadata": {},
   "outputs": [],
   "source": [
    "class CombinedDataSelector:\n",
    "    def __init__(self,daArray):\n",
    "        self.daArray = daArray\n",
    "        \n",
    "    def Construct():\n",
    "        for itemi in range(self.daArray):\n",
    "            cloned = list(self.daArray)\n",
    "            cloned.remove(itemi)\n",
    "            selected = []\n",
    "            for v in cloned:\n",
    "                selected.extend(v.metrics)\n",
    "            yield (selected,itemi)\n",
    "        "
   ]
  },
  {
   "cell_type": "code",
   "execution_count": 17,
   "metadata": {},
   "outputs": [],
   "source": [
    "import numpy as np\n",
    "from models import LinRegWithPoly, RidgeRegCVWithPoly, LassoCVWithPoly\n",
    "from sklearn.model_selection import train_test_split"
   ]
  },
  {
   "cell_type": "code",
   "execution_count": 20,
   "metadata": {},
   "outputs": [],
   "source": [
    "def SplitTestEval(X, y):\n",
    "    X_train, X_test, y_train, y_test = train_test_split(X, y, test_size=0.1, random_state=42)"
   ]
  },
  {
   "cell_type": "code",
   "execution_count": 21,
   "metadata": {},
   "outputs": [],
   "source": [
    "X_train, X_test, y_train, y_test = train_test_split(np.array(dfs.constructAll()[0]),\n",
    "     np.array(dfs.constructAll()[1]), test_size=0.1, random_state=42)"
   ]
  },
  {
   "cell_type": "code",
   "execution_count": 32,
   "metadata": {},
   "outputs": [
    {
     "output_type": "execute_result",
     "data": {
      "text/plain": [
       "(0,\n",
       " {'kfold_mse': 1.166292117255559,\n",
       "  'kfold_std': 0.6137853705586909,\n",
       "  'val_mse': 8.205107165994354,\n",
       "  'val_rmse': 2.8644558237114346,\n",
       "  'val_r2': -16.389207484996646})"
      ]
     },
     "metadata": {},
     "execution_count": 32
    }
   ],
   "source": [
    "lr_model = LinRegWithPoly(power=5)\n",
    "lr_model.fit(X_train, y_train)\n",
    "lr_model.evaluate(X_test, y_test)"
   ]
  },
  {
   "cell_type": "code",
   "execution_count": 33,
   "metadata": {},
   "outputs": [
    {
     "output_type": "execute_result",
     "data": {
      "text/plain": [
       "array([-3.36585667e-08, -4.90442834e-01, -2.51749366e+00,  6.54424100e+00,\n",
       "        1.16862538e+00,  1.47664046e+01,  8.27482026e+00, -4.44248595e+01,\n",
       "        1.52441955e+02, -3.36630519e+00, -2.74534197e+01,  4.87637727e+01,\n",
       "        8.26503379e+00,  2.78110671e+01, -5.08323394e+01, -2.14829494e+01,\n",
       "        1.39531719e+03, -4.00868989e+03,  2.31669159e+03,  6.49793906e+02,\n",
       "       -2.06381663e+03,  1.38818934e+03, -1.07187763e+03,  2.87666800e+03,\n",
       "       -1.80935887e+03,  1.64661651e+02, -4.67628925e+02,  1.27276857e+02,\n",
       "       -2.33796856e+02,  7.21653977e+02, -4.67325982e+02, -1.48824873e+02,\n",
       "        1.49110069e+02, -8.42826652e+01,  5.39148236e+01, -3.55356688e+01,\n",
       "        1.03836906e+04, -3.39162573e+04,  1.02249647e+04,  1.13590026e+04,\n",
       "       -3.48723857e+04,  1.33106412e+04, -1.89054352e+04,  3.72009317e+04,\n",
       "       -1.78304490e+04,  2.39095788e+03, -9.62580778e+03, -7.82946477e+02,\n",
       "       -1.27625222e+04,  3.15598745e+04, -1.52443933e+04,  1.42404395e+01,\n",
       "       -3.10616807e+03,  1.89776464e+03, -2.71963323e+02, -1.57253529e+02,\n",
       "        1.51674368e+02, -3.29940416e+02, -1.39294599e+03,  1.97504397e+03,\n",
       "        2.58016121e+02, -4.93781781e+01,  7.33426666e+01,  1.81506918e+02,\n",
       "       -3.11570216e+02,  4.16720868e+01,  1.01384545e+02, -9.58191981e+02,\n",
       "        9.17759402e+02, -1.91564531e+02,  7.21333071e+01, -1.68384843e+03,\n",
       "        3.29598777e+03, -8.79037116e+02,  6.13184184e+04, -2.06376682e+05,\n",
       "        6.01067187e+04,  3.86361543e+03, -1.17482407e+04,  7.85884164e+03,\n",
       "        8.57453452e+03, -4.86744503e+04, -2.74910731e+04, -1.20680021e+05,\n",
       "        2.87868205e+05, -1.22306343e+05,  2.90113704e+04, -6.28583674e+04,\n",
       "        1.68772536e+04, -9.06085039e+02, -2.55723045e+03,  8.11967216e+03,\n",
       "       -8.43795861e+03, -3.19302965e+04,  5.00185039e+04, -8.13085680e+03,\n",
       "        1.04887093e+04, -1.67441527e+04,  6.68375573e+03, -1.33767500e+03,\n",
       "       -2.27200351e+03,  1.72038384e+04, -3.96507694e+04,  2.91780737e+04,\n",
       "       -7.21662418e+03, -1.07847932e+02,  9.20687311e+02, -6.64353742e+02,\n",
       "       -2.67423699e+03,  4.17131935e+03, -1.50398739e+03,  1.66144784e+03,\n",
       "       -3.36600163e+03,  1.82855768e+03,  4.30331784e+01,  6.70138730e+02,\n",
       "       -9.08059938e+02, -5.45298457e+02,  5.76268808e+02, -2.50730280e+02,\n",
       "       -4.99300614e+02,  3.17194254e+03, -5.52193828e+03,  4.24153276e+03,\n",
       "       -1.36986077e+03,  8.52267906e+01])"
      ]
     },
     "metadata": {},
     "execution_count": 33
    }
   ],
   "source": [
    "lr_model.coef_"
   ]
  },
  {
   "cell_type": "code",
   "execution_count": 34,
   "metadata": {},
   "outputs": [],
   "source": [
    "ridge = RidgeRegCVWithPoly(power=5, alphas=[1e-3, 1e-2, 1e-1, 1, 10])"
   ]
  },
  {
   "cell_type": "code",
   "execution_count": 35,
   "metadata": {},
   "outputs": [
    {
     "output_type": "execute_result",
     "data": {
      "text/plain": [
       "(0,\n",
       " {'kfold_mse': 0.49128709144489635,\n",
       "  'kfold_std': 0.051186716282342615,\n",
       "  'val_mse': 0.4754208794378205,\n",
       "  'val_rmse': 0.6895077080336525,\n",
       "  'val_r2': -0.007566646966756352})"
      ]
     },
     "metadata": {},
     "execution_count": 35
    }
   ],
   "source": [
    "ridge.fit(X_train, y_train)\n",
    "ridge.evaluate(X_test, y_test)"
   ]
  },
  {
   "cell_type": "code",
   "execution_count": 36,
   "metadata": {},
   "outputs": [],
   "source": [
    "lasso = LassoCVWithPoly(power=5, alphas=[1e-3, 1e-2, 1e-1, 1, 10])"
   ]
  },
  {
   "cell_type": "code",
   "execution_count": 37,
   "metadata": {},
   "outputs": [
    {
     "output_type": "execute_result",
     "data": {
      "text/plain": [
       "(0,\n",
       " {'kfold_mse': 0.4920128907877438,\n",
       "  'kfold_std': 0.041959898695600635,\n",
       "  'val_mse': 0.46812271363514996,\n",
       "  'val_rmse': 0.684194938329092,\n",
       "  'val_r2': 0.007900465995340555})"
      ]
     },
     "metadata": {},
     "execution_count": 37
    }
   ],
   "source": [
    "lasso.fit(X_train, y_train)\n",
    "lasso.evaluate(X_test, y_test)"
   ]
  },
  {
   "source": [
    "!pip install sklearn"
   ],
   "cell_type": "markdown",
   "metadata": {}
  },
  {
   "source": [
    "!pip install sklearn"
   ],
   "cell_type": "markdown",
   "metadata": {}
  },
  {
   "source": [
    "def TrainingPipeline(daArray, conn, model):\n",
    "    cds = CombinedDataSelector(daArray)\n",
    "    for s in cds.Construct():\n",
    "        (selected,itemi) = s\n",
    "        ds = DataSelector(5,selected)\n",
    "        dfs = DataFromSelector(ds,1980,25,conn)\n",
    "        datas = dfs.constructAll()\n",
    "        (X, y) = datas\n",
    "        X_train, X_test, y_train, y_test = train_test_split(X, y, test_size=0.33, random_state=42)\n",
    "        modelc = model.getNewConsolitedModel()\n",
    "        modelc.fit(X_train,y_train)\n",
    "        Score = modelc.evaluate(X_test,y_test)[0]\n",
    "        print(itemi.note, Score)\n",
    "    "
   ],
   "cell_type": "markdown",
   "metadata": {}
  }
 ],
 "metadata": {
  "kernelspec": {
   "display_name": "Python 3",
   "language": "python",
   "name": "python3"
  },
  "language_info": {
   "codemirror_mode": {
    "name": "ipython",
    "version": 3
   },
   "file_extension": ".py",
   "mimetype": "text/x-python",
   "name": "python",
   "nbconvert_exporter": "python",
   "pygments_lexer": "ipython3",
   "version": "3.7.9-final"
  }
 },
 "nbformat": 4,
 "nbformat_minor": 2
}